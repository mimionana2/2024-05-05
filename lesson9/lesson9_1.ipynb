{
 "cells": [
  {
   "cell_type": "code",
   "execution_count": 1,
   "metadata": {},
   "outputs": [],
   "source": [
    "class Bmi:\n",
    "    @classmethod\n",
    "    def cal_bmi(cls,height:int, weight:int)->float:\n",
    "        BMI = weight / (height / 100) ** 2\n",
    "        return BMI\n",
    "    \n",
    "    @classmethod\n",
    "    def get_status(cls,bmi:float)->str:\n",
    "        if bmi < 18.5:\n",
    "            rate = \"過輕\"\n",
    "        elif bmi < 24:\n",
    "            rate = \"正常\"\n",
    "        elif bmi < 27:\n",
    "            rate = \"過重\"\n",
    "        elif bmi < 30:\n",
    "            rate = \"輕度肥胖\"\n",
    "        elif bmi < 35:\n",
    "            rate = \"中度肥胖\"\n",
    "        else:\n",
    "            rate = \"重度肥胖\"\n",
    "        \n",
    "        return rate"
   ]
  },
  {
   "cell_type": "code",
   "execution_count": 2,
   "metadata": {},
   "outputs": [
    {
     "name": "stdout",
     "output_type": "stream",
     "text": [
      "請輸入您的姓名: que\n",
      "請輸入您的身高(cm): 163\n",
      "請輸入您的體重(kg): 65\n",
      "您的姓名為 que\n",
      "您的BMI值為 24.46460160337235\n",
      "您屬於 過重 範圍\n"
     ]
    }
   ],
   "source": [
    "import pyinputplus as pypi\n",
    "\n",
    "def main()->None:\n",
    "    name = pypi.inputStr(\"請輸入您的姓名: \")\n",
    "    print(name)\n",
    "    height = pypi.inputInt(\"請輸入您的身高(cm): \", min=50, max=250)\n",
    "    print(height)\n",
    "    weight = pypi.inputInt(\"請輸入您的體重(kg): \", min=0, max=200)\n",
    "    print(weight)\n",
    "\n",
    "    BMI = Bmi.cal_bmi(height=height, weight=weight)\n",
    "    rate = Bmi.get_status(BMI)\n",
    "    print(f\"您的姓名為 {name}\\n您的BMI值為 {BMI}\\n您屬於 {rate} 範圍\")\n",
    "\n",
    "\n",
    "if __name__ == '__main__':\n",
    "    main()"
   ]
  },
  {
   "cell_type": "code",
   "execution_count": 12,
   "metadata": {},
   "outputs": [],
   "source": [
    "class Bmi():\n",
    "    def __init__(self,n:str): #自訂的init\n",
    "        self.name = n\n",
    "\n",
    "    def __repr__(self) -> str:\n",
    "        return f'我的名字叫{self.name}'\n",
    "\n",
    "    @property\n",
    "    def hight(self) -> int:\n",
    "        return self.__hight\n",
    "    \n",
    "    \n",
    "    def __repr__(self) -> str:\n",
    "        return f'我的名字叫{self.name}'\n",
    "\n",
    "class Bmi:\n",
    "    def __init__(self,n:str,h:int,w:int):\n",
    "        super().__init__(n) #執行父類別的init\n",
    "        self.__hight = h\n",
    "        self.__weight =g\n",
    "\n",
    "    @property\n",
    "    def name(self)-> int:\n",
    "        return self.__name\n",
    "\n",
    "\n",
    "    def weight(self) -> int:\n",
    "        return self.__weight\n",
    "    \n",
    "    \n",
    "    @classmethod\n",
    "    def cal_bmi(cls,height:int,weight:int) -> float:\n",
    "        bmi = weight/(hight/100)**2\n",
    "        return Bmi\n",
    "    \n",
    "    @classmethod\n",
    "    def get_status(bmi:float)->str:\n",
    "\n",
    "        if  bmi<18.5:\n",
    "            return \"過輕\"\n",
    "        elif bmi<24:\n",
    "            return \"正常\" \n",
    "        elif bmi<27:\n",
    "            return \"過重\"\n",
    "        elif bmi<30:\n",
    "            return \"輕度肥胖\"\n",
    "        elif bmi<35:\n",
    "            return \"中度肥胖\"\n",
    "        else:\n",
    "            return \"重度肥胖\"\n"
   ]
  },
  {
   "cell_type": "code",
   "execution_count": 14,
   "metadata": {},
   "outputs": [
    {
     "ename": "ModuleNotFoundError",
     "evalue": "No module named 'BMI'",
     "output_type": "error",
     "traceback": [
      "\u001b[0;31m---------------------------------------------------------------------------\u001b[0m",
      "\u001b[0;31mModuleNotFoundError\u001b[0m                       Traceback (most recent call last)",
      "Cell \u001b[0;32mIn[14], line 2\u001b[0m\n\u001b[1;32m      1\u001b[0m \u001b[38;5;28;01mimport\u001b[39;00m \u001b[38;5;21;01mpyinputplus\u001b[39;00m \u001b[38;5;28;01mas\u001b[39;00m \u001b[38;5;21;01mpypi\u001b[39;00m\n\u001b[0;32m----> 2\u001b[0m \u001b[38;5;28;01mimport\u001b[39;00m \u001b[38;5;21;01mBMI\u001b[39;00m\n\u001b[1;32m      4\u001b[0m \u001b[38;5;28;01mdef\u001b[39;00m \u001b[38;5;21mmain\u001b[39m()\u001b[38;5;241m-\u001b[39m\u001b[38;5;241m>\u001b[39m\u001b[38;5;28;01mNone\u001b[39;00m:\n\u001b[1;32m      5\u001b[0m     name \u001b[38;5;241m=\u001b[39m pypi\u001b[38;5;241m.\u001b[39minputStr(\u001b[38;5;124m\"\u001b[39m\u001b[38;5;124m請輸入您的姓名: \u001b[39m\u001b[38;5;124m\"\u001b[39m)\n",
      "\u001b[0;31mModuleNotFoundError\u001b[0m: No module named 'BMI'"
     ]
    }
   ],
   "source": [
    "import pyinputplus as pypi\n",
    "import BMI\n",
    "\n",
    "def main()->None:\n",
    "    name = pypi.inputStr(\"請輸入您的姓名: \")\n",
    "    print(name)\n",
    "    height = pypi.inputInt(\"請輸入您的身高(cm): \", min=50, max=250)\n",
    "    print(height)\n",
    "    weight = pypi.inputInt(\"請輸入您的體重(kg): \", min=0, max=200)\n",
    "    print(weight)\n",
    "\n",
    "    BMI = tools.cal_bmi(height=height, weight=weight)\n",
    "    rate = tools.get_status(BMI)\n",
    "    print(f\"您的姓名為 {name}\\n您的BMI值為 {BMI}\\n您屬於 {rate} 範圍\")\n",
    "\n"
   ]
  }
 ],
 "metadata": {
  "kernelspec": {
   "display_name": "Python 3",
   "language": "python",
   "name": "python3"
  },
  "language_info": {
   "codemirror_mode": {
    "name": "ipython",
    "version": 3
   },
   "file_extension": ".py",
   "mimetype": "text/x-python",
   "name": "python",
   "nbconvert_exporter": "python",
   "pygments_lexer": "ipython3",
   "version": "3.10.14"
  }
 },
 "nbformat": 4,
 "nbformat_minor": 2
}
