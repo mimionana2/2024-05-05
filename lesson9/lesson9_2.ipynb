{
 "cells": [
  {
   "cell_type": "code",
   "execution_count": 1,
   "metadata": {},
   "outputs": [
    {
     "name": "stdout",
     "output_type": "stream",
     "text": [
      "<class '__main__.Person'>\n"
     ]
    }
   ],
   "source": [
    "class Person():\n",
    "    pass\n",
    "\n",
    "p1:Person = Person()\n",
    "print(type(p1))"
   ]
  },
  {
   "cell_type": "code",
   "execution_count": 2,
   "metadata": {},
   "outputs": [
    {
     "name": "stdout",
     "output_type": "stream",
     "text": [
      "<class '__main__.Person'>\n",
      "<class '__main__.Person'>\n"
     ]
    }
   ],
   "source": [
    "class Person():\n",
    "    pass\n",
    "\n",
    "p1:Person = Person()\n",
    "print(type(p1))\n",
    "\n",
    "p2:Person = Person()\n",
    "print(type(p2))"
   ]
  },
  {
   "cell_type": "code",
   "execution_count": 13,
   "metadata": {},
   "outputs": [
    {
     "ename": "NameError",
     "evalue": "name 'self' is not defined",
     "output_type": "error",
     "traceback": [
      "\u001b[0;31m---------------------------------------------------------------------------\u001b[0m",
      "\u001b[0;31mNameError\u001b[0m                                 Traceback (most recent call last)",
      "Cell \u001b[0;32mIn[13], line 6\u001b[0m\n\u001b[1;32m      3\u001b[0m     \u001b[38;5;28;01mdef\u001b[39;00m \u001b[38;5;21m__init__\u001b[39m(\u001b[38;5;28mself\u001b[39m):\n\u001b[1;32m      4\u001b[0m         \u001b[38;5;28mself\u001b[39m\u001b[38;5;241m.\u001b[39mname \u001b[38;5;241m=\u001b[39m \u001b[38;5;124m\"\u001b[39m\u001b[38;5;124mmimionana\u001b[39m\u001b[38;5;124m\"\u001b[39m\n\u001b[0;32m----> 6\u001b[0m p1:Person \u001b[38;5;241m=\u001b[39m Person(\u001b[38;5;28;43mself\u001b[39;49m\u001b[38;5;241m.\u001b[39mname)\n\u001b[1;32m      7\u001b[0m \u001b[38;5;28mprint\u001b[39m(p1\u001b[38;5;241m.\u001b[39mname)\n\u001b[1;32m      9\u001b[0m p2:Person \u001b[38;5;241m=\u001b[39m Person(\u001b[38;5;28mself\u001b[39m\u001b[38;5;241m.\u001b[39mname)\n",
      "\u001b[0;31mNameError\u001b[0m: name 'self' is not defined"
     ]
    }
   ],
   "source": [
    "#建立實體的attribute(屬性)\n",
    "class Person():\n",
    "    def __init__(self):\n",
    "        self.name = \"mimionana\"\n",
    "\n",
    "p1:Person = Person(self.name)\n",
    "print(p1.name)\n",
    "\n",
    "p2:Person = Person(self.name)\n",
    "print(p2.name)"
   ]
  },
  {
   "cell_type": "code",
   "execution_count": 4,
   "metadata": {},
   "outputs": [
    {
     "name": "stdout",
     "output_type": "stream",
     "text": [
      "邱若華\n",
      "mimionana\n"
     ]
    }
   ],
   "source": [
    "#建立實體的attribute(屬性)\n",
    "class Person():\n",
    "    def __init__(self,n:str):\n",
    "        self.name = n\n",
    "\n",
    "p1:Person = Person(\"邱若華\")\n",
    "print(p1.name)\n",
    "\n",
    "p2:Person = Person(\"mimionana\")\n",
    "print(p2.name)"
   ]
  },
  {
   "cell_type": "code",
   "execution_count": 9,
   "metadata": {},
   "outputs": [
    {
     "name": "stdout",
     "output_type": "stream",
     "text": [
      "<class '__main__.Person'>\n",
      "<class '__main__.Person'>\n"
     ]
    }
   ],
   "source": [
    "class Person():\n",
    "    pass\n",
    "\n",
    "p1:Person = Person()\n",
    "print(type(p1))\n",
    "\n",
    "p2:Person = Person()\n",
    "print(type(p2))"
   ]
  },
  {
   "cell_type": "code",
   "execution_count": 18,
   "metadata": {},
   "outputs": [],
   "source": [
    "#建立實體的attribute(屬性)\n",
    "class Person():\n",
    "    def __init__(self,n:str): #自訂的init\n",
    "        self.name = n\n",
    "\n",
    "    def __repr__(self) -> str:\n",
    "        return f'我的名字叫{self.name}'"
   ]
  },
  {
   "cell_type": "code",
   "execution_count": 19,
   "metadata": {},
   "outputs": [
    {
     "name": "stdout",
     "output_type": "stream",
     "text": [
      "邱若華\n",
      "我的名字叫邱若華\n",
      "mimionana\n",
      "我的名字叫mimionana\n"
     ]
    }
   ],
   "source": [
    "p1:Person = Person(\"邱若華\")\n",
    "print(p1.name)\n",
    "print(p1)\n",
    "\n",
    "p2:Person = Person(\"mimionana\")\n",
    "print(p2.name)\n",
    "print(p2)\n",
    "\n"
   ]
  },
  {
   "cell_type": "code",
   "execution_count": 16,
   "metadata": {},
   "outputs": [],
   "source": [
    "#建立實體的attribute(屬性)\n",
    "class Person():\n",
    "    def __init__(self,n:str): #自訂的init\n",
    "        self.name = n\n",
    "\n",
    "    def __repr__(self) -> str:\n",
    "        return f'我的名字叫{self.name}'\n",
    "\n",
    "#繼承\n",
    "class Student(Person):\n",
    "    pass"
   ]
  },
  {
   "cell_type": "code",
   "execution_count": 17,
   "metadata": {},
   "outputs": [
    {
     "name": "stdout",
     "output_type": "stream",
     "text": [
      "<class '__main__.Student'>\n",
      "邱若華\n",
      "我的名字叫邱若華\n",
      "<class '__main__.Student'>\n",
      "mimionana\n",
      "我的名字叫mimionana\n"
     ]
    }
   ],
   "source": [
    "s1 = Student(n=\"邱若華\")\n",
    "print(type(s1))\n",
    "print(s1.name)\n",
    "print(s1)\n",
    "\n",
    "s2 = Student(n=\"mimionana\")\n",
    "print(type(s2))\n",
    "print(s2.name)\n",
    "print(s2)"
   ]
  },
  {
   "cell_type": "code",
   "execution_count": 20,
   "metadata": {},
   "outputs": [],
   "source": [
    "#建立實體的attribute(屬性)\n",
    "class Person():\n",
    "    def __init__(self,n:str): #自訂的init\n",
    "        self.name = n\n",
    "\n",
    "    def __repr__(self) -> str:\n",
    "        return f'我的名字叫{self.name}'\n",
    "\n",
    "#繼承\n",
    "class Student(Person):\n",
    "    def __init__(self,n:str,ch:int,en:int,ma:int):\n",
    "        super().__init__(n) #執行父類別的init\n",
    "        self.chinese = ch\n",
    "        self.english = en\n",
    "        self.math = ma"
   ]
  },
  {
   "cell_type": "code",
   "execution_count": 21,
   "metadata": {},
   "outputs": [
    {
     "name": "stdout",
     "output_type": "stream",
     "text": [
      "<class '__main__.Student'>\n",
      "邱若華 67 96 65\n",
      "我的名字叫邱若華\n",
      "<class '__main__.Student'>\n",
      "mimionana 91 85 95\n",
      "我的名字叫mimionana\n"
     ]
    }
   ],
   "source": [
    "s1 = Student(n=\"邱若華\",ch=67,en=96,ma=65)\n",
    "print(type(s1))\n",
    "print(s1.name,s1.chinese,s1.english,s1.math)\n",
    "print(s1)\n",
    "\n",
    "s2 = Student(n=\"mimionana\",ch=91,en=85,ma=95)\n",
    "print(type(s2))\n",
    "print(s2.name,s2.chinese,s2.english,s2.math)\n",
    "print(s2)"
   ]
  },
  {
   "cell_type": "code",
   "execution_count": 22,
   "metadata": {},
   "outputs": [],
   "source": [
    "#建立實體的attribute(屬性)\n",
    "class Person():\n",
    "    def __init__(self,n:str): #自訂的init\n",
    "        self.name = n\n",
    "\n",
    "    def __repr__(self) -> str:\n",
    "        return f'我的名字叫{self.name}'\n",
    "\n",
    "#繼承-不可以更改的property(屬性)\n",
    "class Student(Person):\n",
    "    def __init__(self,n:str,ch:int,en:int,ma:int):\n",
    "        super().__init__(n) #執行父類別的init\n",
    "        self.__chinese = ch\n",
    "        self.__english = en\n",
    "        self.__math = ma\n",
    "\n",
    "    @property\n",
    "    def chinese(self) -> int:\n",
    "        return self.__chinese\n",
    "    \n",
    "    @property\n",
    "    def english(self) -> int:\n",
    "        return self.__english\n",
    "    \n",
    "    @property\n",
    "    def math(self) -> int:\n",
    "        return self.__math"
   ]
  },
  {
   "cell_type": "code",
   "execution_count": 24,
   "metadata": {},
   "outputs": [
    {
     "name": "stdout",
     "output_type": "stream",
     "text": [
      "<class '__main__.Student'>\n",
      "邱若華 67 96 65\n",
      "我的名字叫邱若華\n",
      "<class '__main__.Student'>\n",
      "mimionana 91 85 95\n",
      "我的名字叫mimionana\n"
     ]
    }
   ],
   "source": [
    "s1 = Student(n=\"邱若華\",ch=67,en=96,ma=65)\n",
    "print(type(s1))\n",
    "print(s1.name,s1.chinese,s1.english,s1.math)\n",
    "print(s1)\n",
    "\n",
    "s2 = Student(n=\"mimionana\",ch=91,en=85,ma=95)\n",
    "print(type(s2))\n",
    "print(s2.name,s2.chinese,s2.english,s2.math)\n",
    "print(s2)"
   ]
  },
  {
   "cell_type": "code",
   "execution_count": 25,
   "metadata": {},
   "outputs": [],
   "source": [
    "#建立實體的attribute(屬性)\n",
    "class Person():\n",
    "    def __init__(self,n:str): #自訂的init\n",
    "        self.name = n\n",
    "\n",
    "    def __repr__(self) -> str:\n",
    "        return f'我的名字叫{self.name}'\n",
    "\n",
    "#繼承-不可以更改的property(屬性)\n",
    "class Student(Person):\n",
    "    def __init__(self,n:str,ch:int,en:int,ma:int):\n",
    "        super().__init__(n) #執行父類別的init\n",
    "        self.__chinese = ch\n",
    "        self.__english = en\n",
    "        self.__math = ma\n",
    "\n",
    "    @property\n",
    "    def chinese(self) -> int:\n",
    "        return self.__chinese\n",
    "    \n",
    "    @property\n",
    "    def english(self) -> int:\n",
    "        return self.__english\n",
    "    \n",
    "    @property\n",
    "    def math(self) -> int:\n",
    "        return self.__math\n",
    "    \n",
    "    def __repr__(self) -> str:\n",
    "        message:str = super().__repr__()\n",
    "        message += \"\\n我是一個學生\"\n",
    "        return message"
   ]
  },
  {
   "cell_type": "code",
   "execution_count": 26,
   "metadata": {},
   "outputs": [
    {
     "name": "stdout",
     "output_type": "stream",
     "text": [
      "<class '__main__.Student'>\n",
      "邱若華 67 96 65\n",
      "我的名字叫邱若華\n",
      "我是一個學生\n",
      "<class '__main__.Student'>\n",
      "mimionana 91 85 95\n",
      "我的名字叫mimionana\n",
      "我是一個學生\n"
     ]
    }
   ],
   "source": [
    "s1 = Student(n=\"邱若華\",ch=67,en=96,ma=65)\n",
    "print(type(s1))\n",
    "print(s1.name,s1.chinese,s1.english,s1.math)\n",
    "print(s1)\n",
    "\n",
    "s2 = Student(n=\"mimionana\",ch=91,en=85,ma=95)\n",
    "print(type(s2))\n",
    "print(s2.name,s2.chinese,s2.english,s2.math)\n",
    "print(s2)"
   ]
  },
  {
   "cell_type": "code",
   "execution_count": 27,
   "metadata": {},
   "outputs": [],
   "source": [
    "#建立實體的attribute(屬性)\n",
    "class Person():\n",
    "    def __init__(self,n:str): #自訂的init\n",
    "        self.name = n\n",
    "\n",
    "    def __repr__(self) -> str:\n",
    "        return f'我的名字叫{self.name}'\n",
    "\n",
    "#繼承-實體的method()\n",
    "class Student(Person):\n",
    "    def __init__(self,n:str,ch:int,en:int,ma:int):\n",
    "        super().__init__(n) #執行父類別的init\n",
    "        self.__chinese = ch\n",
    "        self.__english = en\n",
    "        self.__math = ma\n",
    "\n",
    "    @property\n",
    "    def chinese(self) -> int:\n",
    "        return self.__chinese\n",
    "    \n",
    "    @property\n",
    "    def english(self) -> int:\n",
    "        return self.__english\n",
    "    \n",
    "    @property\n",
    "    def math(self) -> int:\n",
    "        return self.__math\n",
    "    \n",
    "    def __repr__(self) -> str:\n",
    "        message:str = super().__repr__()\n",
    "        message += \"\\n我是一個學生\"\n",
    "        return message\n",
    "    \n",
    "    def sum(self)->int: #實體的method\n",
    "        return self.chinese + self.english + self.math\n",
    "    \n",
    "    def average(self)->float:#實體的method\n",
    "        return round(self.sum() / 3.0,ndigits=2)"
   ]
  },
  {
   "cell_type": "code",
   "execution_count": 28,
   "metadata": {},
   "outputs": [
    {
     "name": "stdout",
     "output_type": "stream",
     "text": [
      "<class '__main__.Student'>\n",
      "邱若華 67 96 65\n",
      "我的名字叫邱若華\n",
      "我是一個學生\n",
      "s1的總分是228\n",
      "s1的平均是76.0\n",
      "====================\n",
      "<class '__main__.Student'>\n",
      "mimionana 91 85 95\n",
      "我的名字叫mimionana\n",
      "我是一個學生\n",
      "我的名字叫mimionana\n",
      "我是一個學生\n",
      "s2的總分是271\n",
      "s2的平均是90.33\n"
     ]
    }
   ],
   "source": [
    "s1 = Student(n=\"邱若華\",ch=67,en=96,ma=65)\n",
    "print(type(s1))\n",
    "print(s1.name,s1.chinese,s1.english,s1.math)\n",
    "print(s1)\n",
    "print(f\"s1的總分是{s1.sum()}\")\n",
    "print(f\"s1的平均是{s1.average()}\")\n",
    "print(\"====================\")\n",
    "\n",
    "s2 = Student(n=\"mimionana\",ch=91,en=85,ma=95)\n",
    "print(type(s2))\n",
    "print(s2.name,s2.chinese,s2.english,s2.math)\n",
    "print(s2)\n",
    "print(s2)\n",
    "print(f\"s2的總分是{s2.sum()}\")\n",
    "print(f\"s2的平均是{s2.average()}\")\n"
   ]
  },
  {
   "cell_type": "code",
   "execution_count": null,
   "metadata": {},
   "outputs": [],
   "source": []
  }
 ],
 "metadata": {
  "kernelspec": {
   "display_name": "Python 3",
   "language": "python",
   "name": "python3"
  },
  "language_info": {
   "codemirror_mode": {
    "name": "ipython",
    "version": 3
   },
   "file_extension": ".py",
   "mimetype": "text/x-python",
   "name": "python",
   "nbconvert_exporter": "python",
   "pygments_lexer": "ipython3",
   "version": "3.10.14"
  }
 },
 "nbformat": 4,
 "nbformat_minor": 2
}
