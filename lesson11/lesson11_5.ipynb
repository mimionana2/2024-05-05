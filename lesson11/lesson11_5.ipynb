{
 "cells": [
  {
   "cell_type": "code",
   "execution_count": 1,
   "metadata": {},
   "outputs": [
    {
     "ename": "ModuleNotFoundError",
     "evalue": "No module named 'pydantic'",
     "output_type": "error",
     "traceback": [
      "\u001b[0;31m---------------------------------------------------------------------------\u001b[0m",
      "\u001b[0;31mModuleNotFoundError\u001b[0m                       Traceback (most recent call last)",
      "Cell \u001b[0;32mIn[1], line 7\u001b[0m\n\u001b[1;32m      4\u001b[0m     json_content:\u001b[38;5;28mstr\u001b[39m \u001b[38;5;241m=\u001b[39m file\u001b[38;5;241m.\u001b[39mread()\n\u001b[1;32m      6\u001b[0m \u001b[38;5;66;03m#巢狀的pydantic\u001b[39;00m\n\u001b[0;32m----> 7\u001b[0m \u001b[38;5;28;01mfrom\u001b[39;00m \u001b[38;5;21;01mpydantic\u001b[39;00m \u001b[38;5;28;01mimport\u001b[39;00m BaseModel,Field,ValidationError\n\u001b[1;32m      9\u001b[0m \u001b[38;5;28;01mclass\u001b[39;00m \u001b[38;5;21;01mSite\u001b[39;00m(BaseModel):\n\u001b[1;32m     10\u001b[0m     sitename:\u001b[38;5;28mstr\u001b[39m\n",
      "\u001b[0;31mModuleNotFoundError\u001b[0m: No module named 'pydantic'"
     ]
    }
   ],
   "source": [
    "import json\n",
    "from pprint import pprint\n",
    "with open('aqx_p_488.json',encoding='utf-8') as file:\n",
    "    json_content:str = file.read()\n",
    "\n",
    "#巢狀的pydantic\n",
    "from pydantic import BaseModel,Field,ValidationError\n",
    "\n",
    "class Site(BaseModel):\n",
    "    sitename:str\n",
    "    county:str\n",
    "    aqi:int\n",
    "    pm25:int = Field(alias='pm2.5')\n",
    "\n",
    "class AQI(BaseModel):\n",
    "    records:list[Site]\n",
    "\n",
    "try:\n",
    "    aqi:AQI = AQI.model_validate_json(json_content)\n",
    "except ValidationError as error:\n",
    "    print(error)\n",
    "\n"
   ]
  }
 ],
 "metadata": {
  "kernelspec": {
   "display_name": "Python 3",
   "language": "python",
   "name": "python3"
  },
  "language_info": {
   "codemirror_mode": {
    "name": "ipython",
    "version": 3
   },
   "file_extension": ".py",
   "mimetype": "text/x-python",
   "name": "python",
   "nbconvert_exporter": "python",
   "pygments_lexer": "ipython3",
   "version": "3.10.14"
  }
 },
 "nbformat": 4,
 "nbformat_minor": 2
}
