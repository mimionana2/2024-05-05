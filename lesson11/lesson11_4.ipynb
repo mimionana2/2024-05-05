{
 "cells": [
  {
   "cell_type": "code",
   "execution_count": 1,
   "metadata": {},
   "outputs": [
    {
     "ename": "ModuleNotFoundError",
     "evalue": "No module named 'pydantic'",
     "output_type": "error",
     "traceback": [
      "\u001b[0;31m---------------------------------------------------------------------------\u001b[0m",
      "\u001b[0;31mModuleNotFoundError\u001b[0m                       Traceback (most recent call last)",
      "Cell \u001b[0;32mIn[1], line 30\u001b[0m\n\u001b[1;32m      1\u001b[0m data_json:\u001b[38;5;28mstr\u001b[39m \u001b[38;5;241m=\u001b[39m \u001b[38;5;124m'''\u001b[39m\n\u001b[1;32m      2\u001b[0m \u001b[38;5;124m{\u001b[39m\n\u001b[1;32m      3\u001b[0m \u001b[38;5;124m            \u001b[39m\u001b[38;5;124m\"\u001b[39m\u001b[38;5;124msitename\u001b[39m\u001b[38;5;124m\"\u001b[39m\u001b[38;5;124m: \u001b[39m\u001b[38;5;124m\"\u001b[39m\u001b[38;5;124m屏東(枋山)\u001b[39m\u001b[38;5;124m\"\u001b[39m\u001b[38;5;124m,\u001b[39m\n\u001b[0;32m   (...)\u001b[0m\n\u001b[1;32m     28\u001b[0m \u001b[38;5;124m        }\u001b[39m\n\u001b[1;32m     29\u001b[0m \u001b[38;5;124m'''\u001b[39m\n\u001b[0;32m---> 30\u001b[0m \u001b[38;5;28;01mfrom\u001b[39;00m \u001b[38;5;21;01mpydantic\u001b[39;00m \u001b[38;5;28;01mimport\u001b[39;00m BaseModel\n\u001b[1;32m     32\u001b[0m \u001b[38;5;28;01mclass\u001b[39;00m \u001b[38;5;21;01mSite\u001b[39;00m(BaseModel):\n\u001b[1;32m     33\u001b[0m     sitename:\u001b[38;5;28mstr\u001b[39m\n",
      "\u001b[0;31mModuleNotFoundError\u001b[0m: No module named 'pydantic'"
     ]
    }
   ],
   "source": [
    "data_json:str = '''\n",
    "{\n",
    "            \"sitename\": \"屏東(枋山)\",\n",
    "            \"county\": \"屏東縣\",\n",
    "            \"aqi\": \"19\",\n",
    "            \"pollutant\": \"\",\n",
    "            \"status\": \"良好\",\n",
    "            \"so2\": \"0.3\",\n",
    "            \"co\": \"0.14\",\n",
    "            \"o3\": \"36.2\",\n",
    "            \"o3_8hr\": \"21.2\",\n",
    "            \"pm10\": \"20\",\n",
    "            \"pm2.5\": \"5\",\n",
    "            \"no2\": \"0.8\",\n",
    "            \"nox\": \"1.2\",\n",
    "            \"no\": \"0.4\",\n",
    "            \"windspeed\": \"1.4\",\n",
    "            \"winddirec\": \"287\",\n",
    "            \"datacreationdate\": \"2024-06-09 09:00\",\n",
    "            \"unit\": \"\",\n",
    "            \"co_8hr\": \"0.2\",\n",
    "            \"pm2.5_avg\": \"4.5\",\n",
    "            \"pm10_avg\": \"17\",\n",
    "            \"so2_avg\": \"0\",\n",
    "            \"longitude\": \"120.651472\",\n",
    "            \"latitude\": \"22.260899\",\n",
    "            \"siteid\": \"313\"\n",
    "        }\n",
    "'''\n",
    "from pydantic import BaseModel\n",
    "\n",
    "class Site(BaseModel):\n",
    "    sitename:str\n",
    "    county:str\n",
    "    aqi:int\n",
    "\n",
    "#class method\n",
    "s1:Site = Site.model_validate_json(data_json)\n",
    "print(s1)\n",
    "\n",
    "#實體method\n",
    "site:dict = s1.model_dump()\n",
    "print(site)"
   ]
  }
 ],
 "metadata": {
  "kernelspec": {
   "display_name": "Python 3",
   "language": "python",
   "name": "python3"
  },
  "language_info": {
   "codemirror_mode": {
    "name": "ipython",
    "version": 3
   },
   "file_extension": ".py",
   "mimetype": "text/x-python",
   "name": "python",
   "nbconvert_exporter": "python",
   "pygments_lexer": "ipython3",
   "version": "3.10.14"
  }
 },
 "nbformat": 4,
 "nbformat_minor": 2
}
