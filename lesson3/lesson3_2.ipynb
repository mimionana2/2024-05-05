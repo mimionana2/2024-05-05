{
 "cells": [
  {
   "cell_type": "code",
   "execution_count": 4,
   "metadata": {},
   "outputs": [
    {
     "name": "stdout",
     "output_type": "stream",
     "text": [
      "半徑為:50.5,圓面積為8011.85\n"
     ]
    }
   ],
   "source": [
    "import math\n",
    "radius=float (input(\"請輸入半徑:\"))\n",
    "area=math.pi*radius**2\n",
    "print(f\"半徑為:{radius},圓面積為{round(area,ndigits=2)}\")"
   ]
  },
  {
   "cell_type": "code",
   "execution_count": 3,
   "metadata": {},
   "outputs": [
    {
     "name": "stdout",
     "output_type": "stream",
     "text": [
      "對邊30,斜邊75,角度是23.58\n"
     ]
    }
   ],
   "source": [
    "import math\n",
    "#三角函數 斜邊、對邊、角度\n",
    "side=30\n",
    "another_side=75\n",
    "radian=math.asin(side/another_side)\n",
    "degree=math.degrees(radian)\n",
    "print(f\"對邊{side},斜邊{another_side},角度是{round(degree,ndigits=2)}\")"
   ]
  },
  {
   "cell_type": "code",
   "execution_count": null,
   "metadata": {},
   "outputs": [],
   "source": []
  }
 ],
 "metadata": {
  "kernelspec": {
   "display_name": "Python 3",
   "language": "python",
   "name": "python3"
  },
  "language_info": {
   "codemirror_mode": {
    "name": "ipython",
    "version": 3
   },
   "file_extension": ".py",
   "mimetype": "text/x-python",
   "name": "python",
   "nbconvert_exporter": "python",
   "pygments_lexer": "ipython3",
   "version": "3.10.14"
  }
 },
 "nbformat": 4,
 "nbformat_minor": 2
}
