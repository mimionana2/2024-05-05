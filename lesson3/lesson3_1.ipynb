{
 "cells": [
  {
   "cell_type": "code",
   "execution_count": 1,
   "metadata": {},
   "outputs": [
    {
     "name": "stdout",
     "output_type": "stream",
     "text": [
      "hello python\n"
     ]
    }
   ],
   "source": [
    "print(\"hello python\")"
   ]
  },
  {
   "cell_type": "code",
   "execution_count": 1,
   "metadata": {},
   "outputs": [
    {
     "name": "stdout",
     "output_type": "stream",
     "text": [
      "hello python\n"
     ]
    }
   ],
   "source": [
    "print(\"hello python\")"
   ]
  },
  {
   "cell_type": "code",
   "execution_count": 7,
   "metadata": {},
   "outputs": [
    {
     "name": "stdout",
     "output_type": "stream",
     "text": [
      "半徑為:5的圓,圓面積為78.54\n"
     ]
    }
   ],
   "source": [
    "#圓面積\n",
    "import math\n",
    "r=5\n",
    "area=math.pi*r*r\n",
    "print(f\"半徑為:{r}的圓,圓面積為{round(area,ndigits=2)}\")\n"
   ]
  },
  {
   "cell_type": "code",
   "execution_count": 4,
   "metadata": {},
   "outputs": [
    {
     "name": "stdout",
     "output_type": "stream",
     "text": [
      "您購買了 2個 oil, 總價值為:$420.0\n"
     ]
    }
   ],
   "source": [
    "item=input(\"您想購賣甚麼物品\")\n",
    "price=float(input(\"價格多少?\"))\n",
    "quantity=int(input(\"您需要多少件\"))\n",
    "total=price*quantity\n",
    "print(f\"您購買了 {quantity}個 {item}, 總價值為:${total}\")"
   ]
  },
  {
   "cell_type": "code",
   "execution_count": 4,
   "metadata": {},
   "outputs": [
    {
     "name": "stdout",
     "output_type": "stream",
     "text": [
      "您的姓名是:que\n"
     ]
    }
   ],
   "source": [
    "name=input(\"請輸入您的姓名\")\n",
    "print(f\"您的姓名是:{name}\")"
   ]
  },
  {
   "cell_type": "code",
   "execution_count": 5,
   "metadata": {},
   "outputs": [
    {
     "name": "stdout",
     "output_type": "stream",
     "text": [
      "10\n",
      "10\n",
      "9\n"
     ]
    }
   ],
   "source": [
    "import math\n",
    "x=9.5\n",
    "print(round(9.5))\n",
    "print(math.ceil(x))\n",
    "print(math.floor(x))"
   ]
  },
  {
   "cell_type": "code",
   "execution_count": 9,
   "metadata": {},
   "outputs": [
    {
     "name": "stdout",
     "output_type": "stream",
     "text": [
      "圓的周長為62.83\n"
     ]
    }
   ],
   "source": [
    "radius=float(input(\"請輸入圓的半徑\"))\n",
    "c=2*math.pi*radius\n",
    "print(f\"圓的周長為{round(c,2)}\")"
   ]
  },
  {
   "cell_type": "code",
   "execution_count": 11,
   "metadata": {},
   "outputs": [
    {
     "name": "stdout",
     "output_type": "stream",
     "text": [
      "圓的面積為1256.64\n"
     ]
    }
   ],
   "source": [
    "radius=float(input(\"請輸入圓的半徑\"))\n",
    "area=math.pi*(radius**2)\n",
    "print(f\"圓的面積為{round(area,2)}\")"
   ]
  },
  {
   "cell_type": "code",
   "execution_count": 11,
   "metadata": {},
   "outputs": [
    {
     "name": "stdout",
     "output_type": "stream",
     "text": [
      "您可以註冊\n"
     ]
    }
   ],
   "source": [
    "age=int(input(\"請輸入您的年齡:\"))\n",
    "\n",
    "if age>=65:\n",
    "    print(\"您年齡太大,無法註冊\")\n",
    "\n",
    "elif  age>=18:\n",
    "    print(\"您可以註冊\")\n",
    "\n",
    "elif  age<=0:\n",
    "    print(\"您尚未出生\")\n",
    "\n",
    "else:\n",
    "    print(\"您必須年滿18,才可註冊\")"
   ]
  }
 ],
 "metadata": {
  "kernelspec": {
   "display_name": "Python 3",
   "language": "python",
   "name": "python3"
  },
  "language_info": {
   "codemirror_mode": {
    "name": "ipython",
    "version": 3
   },
   "file_extension": ".py",
   "mimetype": "text/x-python",
   "name": "python",
   "nbconvert_exporter": "python",
   "pygments_lexer": "ipython3",
   "version": "3.10.14"
  }
 },
 "nbformat": 4,
 "nbformat_minor": 2
}
