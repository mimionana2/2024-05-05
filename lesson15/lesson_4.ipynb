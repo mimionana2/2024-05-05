{
 "cells": [
  {
   "cell_type": "code",
   "execution_count": 6,
   "metadata": {},
   "outputs": [
    {
     "data": {
      "text/plain": [
       "array([[ 97,  87,  99,  77,  59],\n",
       "       [ 67,  51,  64,  71,  62],\n",
       "       [ 99,  88,  76,  51, 100],\n",
       "       [ 66,  75,  64,  56,  69],\n",
       "       [ 92,  72,  52,  92,  66],\n",
       "       [ 99,  69,  99,  89,  94],\n",
       "       [ 96,  68,  52,  60,  58],\n",
       "       [ 50,  84,  68,  70,  62],\n",
       "       [ 73,  61,  78,  98,  56],\n",
       "       [ 53,  73,  94,  75,  70],\n",
       "       [ 66,  93,  81,  66,  65],\n",
       "       [ 64,  77,  62,  68,  95],\n",
       "       [ 79,  50,  65,  83,  59],\n",
       "       [ 50,  54,  82,  59,  63],\n",
       "       [ 71,  95,  63,  64,  73],\n",
       "       [ 70,  67,  88,  73,  51],\n",
       "       [ 62,  93,  91,  82,  81],\n",
       "       [ 58,  81,  54,  90,  97],\n",
       "       [ 66,  63,  55,  99,  70],\n",
       "       [ 62,  77,  93,  61,  67],\n",
       "       [ 91,  87,  52,  80,  61],\n",
       "       [ 79,  74,  63,  99,  51],\n",
       "       [ 67,  83,  90,  59,  71],\n",
       "       [ 98,  58,  94,  58,  70],\n",
       "       [ 81,  90,  77,  86,  52],\n",
       "       [ 70,  81,  85,  69,  80],\n",
       "       [ 59,  80,  59,  96,  54],\n",
       "       [ 82,  73,  60,  98,  83],\n",
       "       [ 86,  78,  95,  85,  95],\n",
       "       [ 85,  61,  65,  94,  89],\n",
       "       [ 80,  67,  62,  81,  83],\n",
       "       [ 83,  66,  71,  85,  68],\n",
       "       [ 69,  56,  82,  53,  74],\n",
       "       [ 93,  67,  51,  88,  59],\n",
       "       [ 97,  80,  62,  63,  95],\n",
       "       [ 51,  63,  93,  88,  78],\n",
       "       [ 51,  99,  67,  66,  96],\n",
       "       [ 74,  72,  93,  54,  58],\n",
       "       [ 72,  77,  58,  77,  65],\n",
       "       [ 72,  99,  79,  99,  77],\n",
       "       [ 66,  50,  85,  79,  58],\n",
       "       [ 50,  61,  73,  53,  87],\n",
       "       [ 80,  87,  86,  59,  57],\n",
       "       [ 89,  80,  99,  80,  90],\n",
       "       [ 91,  79,  84,  92,  89],\n",
       "       [ 95,  74,  72,  62,  63],\n",
       "       [ 89,  52,  65,  53,  74],\n",
       "       [ 94,  97,  56,  57,  63],\n",
       "       [ 85,  65,  64,  88,  84],\n",
       "       [ 96,  79, 100,  70,  62]])"
      ]
     },
     "execution_count": 6,
     "metadata": {},
     "output_type": "execute_result"
    }
   ],
   "source": [
    "import numpy as np\n",
    "students = np.random.randint(50,101,size=(50,5))\n",
    "students"
   ]
  },
  {
   "cell_type": "code",
   "execution_count": 7,
   "metadata": {},
   "outputs": [
    {
     "data": {
      "text/plain": [
       "array([[ 95,  74,  72,  62,  63],\n",
       "       [ 89,  52,  65,  53,  74],\n",
       "       [ 94,  97,  56,  57,  63],\n",
       "       [ 85,  65,  64,  88,  84],\n",
       "       [ 96,  79, 100,  70,  62]])"
      ]
     },
     "execution_count": 7,
     "metadata": {},
     "output_type": "execute_result"
    }
   ],
   "source": [
    "students[0,0]\n",
    "students[:1,:]\n",
    "students[:1] #前一個學生\n",
    "students[:2] #前2個學生\n",
    "students[-5:] #最後5個學生"
   ]
  },
  {
   "cell_type": "code",
   "execution_count": 8,
   "metadata": {},
   "outputs": [
    {
     "data": {
      "text/plain": [
       "array([ 59,  62, 100,  69,  66,  94,  58,  62,  56,  70,  65,  95,  59,\n",
       "        63,  73,  51,  81,  97,  70,  67,  61,  51,  71,  70,  52,  80,\n",
       "        54,  83,  95,  89,  83,  68,  74,  59,  95,  78,  96,  58,  65,\n",
       "        77,  58,  87,  57,  90,  89,  63,  74,  63,  84,  62])"
      ]
     },
     "execution_count": 8,
     "metadata": {},
     "output_type": "execute_result"
    }
   ],
   "source": [
    "students[:,0] #第一科所有分數\n",
    "students[:,-1] #最後一科所有分數"
   ]
  },
  {
   "cell_type": "code",
   "execution_count": 9,
   "metadata": {},
   "outputs": [
    {
     "data": {
      "text/plain": [
       "array([76.5, 74.5, 72.5, 76. , 69.5])"
      ]
     },
     "execution_count": 9,
     "metadata": {},
     "output_type": "execute_result"
    }
   ],
   "source": [
    "np.sum(students[:1]) #第一個學生總分\n",
    "np.sum(students[:2],axis=1) #前2個學生的總分 \n",
    "np.sum(students,axis=1) #全班每位學生的總分\n",
    "np.mean(students,axis=0) #每一科全班的平均\n",
    "np.median(students,axis=0) #每一科全班的中位數"
   ]
  },
  {
   "cell_type": "code",
   "execution_count": null,
   "metadata": {},
   "outputs": [],
   "source": []
  }
 ],
 "metadata": {
  "kernelspec": {
   "display_name": "Python 3",
   "language": "python",
   "name": "python3"
  },
  "language_info": {
   "codemirror_mode": {
    "name": "ipython",
    "version": 3
   },
   "file_extension": ".py",
   "mimetype": "text/x-python",
   "name": "python",
   "nbconvert_exporter": "python",
   "pygments_lexer": "ipython3",
   "version": "3.10.14"
  }
 },
 "nbformat": 4,
 "nbformat_minor": 2
}
