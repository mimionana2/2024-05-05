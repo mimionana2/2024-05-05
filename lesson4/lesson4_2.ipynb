{
 "cells": [
  {
   "cell_type": "code",
   "execution_count": 29,
   "metadata": {},
   "outputs": [
    {
     "name": "stdout",
     "output_type": "stream",
     "text": [
      "學生分數是:300\n",
      "應用程式結束\n"
     ]
    }
   ],
   "source": [
    "try:\n",
    "    scores=int(input(\"請輸入學生分數\"))\n",
    "    is_add=input(\"學生是否符合加分條件?(Y,N)\")\n",
    "    if is_add==\"Y\":\n",
    "        scores*=1.05\n",
    "        if scores>300:\n",
    "            scores=300\n",
    "\n",
    "\n",
    "    print(f\"學生分數是:{round(scores,ndigits=0)}\")\n",
    "\n",
    "except ValueError:\n",
    "    print(\"格式輸入錯誤\")\n",
    "except Exception:\n",
    "    print(\"不知名的錯誤\")\n",
    "\n",
    "print(\"應用程式結束\")\n",
    "\n"
   ]
  },
  {
   "cell_type": "code",
   "execution_count": 36,
   "metadata": {},
   "outputs": [
    {
     "name": "stdout",
     "output_type": "stream",
     "text": [
      "格式輸入錯誤\n",
      "應用程式結束\n"
     ]
    }
   ],
   "source": [
    "#學生的總分為300\n",
    "#有些學生可以加分5%\n",
    "#如果加分超過300,就以300分為準\n",
    "#raise Exception()\n",
    "try:\n",
    "    scores = int(input(\"請輸入學生分數(最高300分):\"))\n",
    "    if scores <= 300 and scores >= 0:        \n",
    "        is_add = input(\"學生是否符合加分條件?(y,n)\")\n",
    "        if is_add == \"y\":\n",
    "            scores *= 1.05\n",
    "            if scores > 300:\n",
    "                scores = 300\n",
    "\n",
    "        print(f\"學生分數是:{round(scores,ndigits=0)}\")      \n",
    "            \n",
    "    else:\n",
    "        print(\"輸入的範圍不正確!\")\n",
    "except ValueError:\n",
    "    print(\"格式輸入錯誤\")\n",
    "except Exception:\n",
    "    print(\"不知名的錯誤\")\n",
    "\n",
    "print(\"應用程式結束\")\n"
   ]
  },
  {
   "cell_type": "code",
   "execution_count": 32,
   "metadata": {},
   "outputs": [
    {
     "name": "stdout",
     "output_type": "stream",
     "text": [
      "不知名的錯誤\n",
      "應用程式結束\n"
     ]
    }
   ],
   "source": [
    "#學生的總分為300\n",
    "#有些學生可以加分5%\n",
    "#如果加分超過300,就以300分為準\n",
    "try:\n",
    "    scores =int(input(\"請輸入學生分數(最高300分):\"))\n",
    "    if scores <=300 and scores >=0:\n",
    "        is_add =intput(\"學生是否符合加分條件?(y,n)\")\n",
    "        if is_add ==\"y\":\n",
    "            scores *= 1.05\n",
    "            if scores >300:\n",
    "                scores =300\n",
    "        print(f\"學生分數是:{round(scores,ndigits=0)}\")\n",
    "    \n",
    "    else:\n",
    "        print(\"輸入範圍不正確!\")\n",
    "except ValueError:\n",
    "    print(\"格式輸入錯誤\")\n",
    "except Exception:\n",
    "    print(\"不知名的錯誤\")\n",
    "\n",
    "print(\"應用程式結束\")\n"
   ]
  },
  {
   "cell_type": "code",
   "execution_count": 1,
   "metadata": {},
   "outputs": [],
   "source": [
    "import pyinputplus as pyip\n"
   ]
  }
 ],
 "metadata": {
  "kernelspec": {
   "display_name": "Python 3",
   "language": "python",
   "name": "python3"
  },
  "language_info": {
   "codemirror_mode": {
    "name": "ipython",
    "version": 3
   },
   "file_extension": ".py",
   "mimetype": "text/x-python",
   "name": "python",
   "nbconvert_exporter": "python",
   "pygments_lexer": "ipython3",
   "version": "3.10.14"
  }
 },
 "nbformat": 4,
 "nbformat_minor": 2
}
