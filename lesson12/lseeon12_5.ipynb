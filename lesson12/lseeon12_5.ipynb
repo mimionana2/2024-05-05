{
 "cells": [
  {
   "cell_type": "code",
   "execution_count": 2,
   "metadata": {},
   "outputs": [],
   "source": [
    "import traceback\n",
    "import json\n",
    "import requests\n",
    "from requests import Response\n",
    "from pydantic import BaseModel,RootModel,Field,ValidationError,field_validator,field_validator\n",
    "from pprint import pprint\n",
    "import pyinputplus as pyip\n",
    "from random import choices\n",
    "\n",
    "\n",
    "class Ubike(BaseModel):\n",
    "    sna:str\n",
    "    sarea:str\n",
    "    mday:str\n",
    "    ar:str\n",
    "    act:bool\n",
    "    total:int\n",
    "    available_rent_bikes:int=Field(alias='available_rent_bikes')\n",
    "    latitude:float= Field(alias='latitude')\n",
    "    longitude:float= Field(alias='longitude')\n",
    "    available_return_bikes:int=Field(alias='available_return_bikes')\n",
    "\n",
    "    \n",
    "class Root(RootModel):\n",
    "    root:list[Ubike]\n",
    "\n"
   ]
  },
  {
   "cell_type": "code",
   "execution_count": null,
   "metadata": {},
   "outputs": [],
   "source": []
  }
 ],
 "metadata": {
  "kernelspec": {
   "display_name": "Python 3",
   "language": "python",
   "name": "python3"
  },
  "language_info": {
   "codemirror_mode": {
    "name": "ipython",
    "version": 3
   },
   "file_extension": ".py",
   "mimetype": "text/x-python",
   "name": "python",
   "nbconvert_exporter": "python",
   "pygments_lexer": "ipython3",
   "version": "3.12.3"
  }
 },
 "nbformat": 4,
 "nbformat_minor": 2
}
