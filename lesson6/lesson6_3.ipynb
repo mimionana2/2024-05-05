{
 "cells": [
  {
   "cell_type": "code",
   "execution_count": 2,
   "metadata": {},
   "outputs": [
    {
     "name": "stdout",
     "output_type": "stream",
     "text": [
      "請輸入第1月儲存的金額:5000\n",
      "請輸入第2月儲存的金額:4000\n",
      "請輸入第3月儲存的金額:1500\n",
      "請輸入第4月儲存的金額:9000\n",
      "請輸入第5月儲存的金額:12000\n",
      "您已經存了31500元,共存了5個月\n"
     ]
    }
   ],
   "source": [
    "#小明想要存錢買一輛機車,機車每輛30000元，他將每月存的錢輸入，當存款足夠買機車時，就顯示提示訊息告知。\n",
    "import pyinputplus as pyip\n",
    "\n",
    "deposit = 0\n",
    "num = 0\n",
    "while deposit < 30000:\n",
    "    num += 1\n",
    "    input_value = pyip.inputInt(f\"請輸入第{num}月儲存的金額:\")\n",
    "    print(input_value)\n",
    "    deposit += input_value\n",
    "\n",
    "print(f\"您已經存了{deposit}元,共存了{num}個月\")"
   ]
  },
  {
   "cell_type": "code",
   "execution_count": 3,
   "metadata": {},
   "outputs": [
    {
     "name": "stdout",
     "output_type": "stream",
     "text": [
      "您輸入的英文字是:milla\n",
      "您輸入的英文字是:ellen\n",
      "您輸入的英文字是:ellan\n",
      "應用程式結束\n"
     ]
    }
   ],
   "source": [
    "#while break\n",
    "while(True):\n",
    "    letter = input(\"請輸入小寫英文字[按q會離開]:\")\n",
    "    if letter == \"q\":\n",
    "        break\n",
    "    print(f\"您輸入的英文字是:{letter}\")\n",
    "print(\"應用程式結束\")"
   ]
  },
  {
   "cell_type": "code",
   "execution_count": 5,
   "metadata": {},
   "outputs": [
    {
     "name": "stdout",
     "output_type": "stream",
     "text": [
      "400\n",
      "輸入錯誤,請重新輸入\n",
      "4096\n",
      "應用程式結束\n"
     ]
    }
   ],
   "source": [
    "while(True):\n",
    "    value = input(\"請輸入整數,輸入[q]離開:\")\n",
    "    if value == 'q':\n",
    "        break\n",
    "    try:\n",
    "        valueInt = int(value)\n",
    "    except Exception:\n",
    "        print(\"輸入錯誤,請重新輸入\")\n",
    "        continue\n",
    "\n",
    "    print(f\"{valueInt ** 2}\")\n",
    "\n",
    "print(\"應用程式結束\")   "
   ]
  },
  {
   "cell_type": "code",
   "execution_count": 23,
   "metadata": {},
   "outputs": [
    {
     "name": "stdout",
     "output_type": "stream",
     "text": [
      "請輸入姓名:que\n",
      "請輸入身高cm:163.0\n",
      "請輸入體重kg:65\n",
      "您的bmi值:24.46\n",
      "您的身體質量指數:過重\n"
     ]
    }
   ],
   "source": [
    "import pyinputplus as pypi\n",
    "def cal_bmi(height:int,weight:int) -> float:\n",
    "    bmi = weight/(hight/100)**2\n",
    "    return bmi\n",
    "\n",
    "def get_status(bmi:float)->str:\n",
    "\n",
    "    if  bmi<18.5:\n",
    "        return \"過輕\"\n",
    "    elif bmi<24:\n",
    "        return \"正常\" \n",
    "    elif bmi<27:\n",
    "        return \"過重\"\n",
    "    elif bmi<30:\n",
    "        return \"輕度肥胖\"\n",
    "    elif bmi<35:\n",
    "        return \"中度肥胖\"\n",
    "    else:\n",
    "        return \"重度肥胖\"\n",
    "\n",
    "name:str=input(\"請輸入姓名:\")\n",
    "print(f\"請輸入姓名:{name}\")\n",
    "\n",
    "height:int=pypi.inputInt(\"請輸入身高cm:\")\n",
    "print (hight)\n",
    "\n",
    "weight:int=pypi.inputInt(\"請輸入體重kg:\")\n",
    "print (weight)\n",
    "\n",
    "bmi:float=cal_bmi(height,weight)\n",
    "print(f\"您的bmi值:{round(bmi,ndigits=2)}\")\n",
    "print(f\"您的身體質量指數:{get_status(bmi)}\")\n"
   ]
  },
  {
   "cell_type": "code",
   "execution_count": null,
   "metadata": {},
   "outputs": [],
   "source": []
  }
 ],
 "metadata": {
  "kernelspec": {
   "display_name": "Python 3",
   "language": "python",
   "name": "python3"
  },
  "language_info": {
   "codemirror_mode": {
    "name": "ipython",
    "version": 3
   },
   "file_extension": ".py",
   "mimetype": "text/x-python",
   "name": "python",
   "nbconvert_exporter": "python",
   "pygments_lexer": "ipython3",
   "version": "3.10.14"
  }
 },
 "nbformat": 4,
 "nbformat_minor": 2
}
